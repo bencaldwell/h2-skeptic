{
 "cells": [
  {
   "cell_type": "markdown",
   "id": "35000a22-47d3-493f-a2bc-109116f92b1a",
   "metadata": {},
   "source": [
    "# Net Zero by 2050\n",
    "\n",
    "On 26th October 2021 Prime Minister Scott Morrison and Minister for Industry, Energy and Emissions Reduction Angus Taylor [released](https://www.minister.industry.gov.au/ministers/taylor/media-releases/australias-plan-reach-our-net-zero-target-2050) [Australia’s Long Term Emissions Reduction Plan](https://www.industry.gov.au/sites/default/files/October%202021/document/australias-long-term-emissions-reduction-plan.pdf) to deliver net zero emissions by 2050.\n",
    "\n",
    "> Over the next decade, our existing \\\\$20 billion investment in low emissions technology is expected to unlock at least \\\\$80 billion of total private and public investment, including in clean hydrogen, carbon capture and storage and energy storage.\n",
    "\n",
    "> ...we have set a stretch goal of solar electricity generation at $15 per megawatt hour (MWh)\n",
    "\n",
    "> Our priority technologies, enabled by the Plan, will see Australia reduce its emissions by 85 per cent by 2050. Over time, we are confident that emerging technologies will deliver the remaining abatement necessary to reach net zero without hurting the economy and jobs.\n",
    "\n",
    "> Solar, wind and other renewable technologies are being installed at a world-leading rate. These technologies are projected to provide over half of Australia’s total generation by 2030.\n",
    "\n",
    "> Australia’s net zero emissions by 2050 target is a whole-of-economy target. Australia does not have any sectoral emissions reduction targets.\n",
    "\n",
    "\n",
    "References:\n",
    "1. https://www.minister.industry.gov.au/ministers/taylor/media-releases/australias-plan-reach-our-net-zero-target-2050\n",
    "1. https://www.industry.gov.au/data-and-publications/australias-long-term-emissions-reduction-plan\n",
    "1. https://www.industry.gov.au/sites/default/files/October%202021/document/australias-long-term-emissions-reduction-plan.pdf\n",
    "1. https://www.industry.gov.au/sites/default/files/November%202021/document/australias-long-term-emissions-reduction-plan-modelling.pdf\n",
    "1. https://www.industry.gov.au/sites/default/files/October%202021/document/the-plan-to-deliver-net-zero-the-australian-way.pdf"
   ]
  },
  {
   "cell_type": "code",
   "execution_count": null,
   "id": "ed9a046b-ed4b-41a9-aa2a-2f48cfdee402",
   "metadata": {},
   "outputs": [],
   "source": []
  }
 ],
 "metadata": {
  "kernelspec": {
   "display_name": "Python 3 (ipykernel)",
   "language": "python",
   "name": "python3"
  },
  "language_info": {
   "codemirror_mode": {
    "name": "ipython",
    "version": 3
   },
   "file_extension": ".py",
   "mimetype": "text/x-python",
   "name": "python",
   "nbconvert_exporter": "python",
   "pygments_lexer": "ipython3",
   "version": "3.9.7"
  }
 },
 "nbformat": 4,
 "nbformat_minor": 5
}
