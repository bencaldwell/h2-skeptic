{
 "cells": [
  {
   "cell_type": "markdown",
   "id": "35000a22-47d3-493f-a2bc-109116f92b1a",
   "metadata": {},
   "source": [
    "# Is Solar the Answer?\n",
    "\n",
    "This analysis investigates replacement of diesel and petrol with hydrogen for all transport in Australia.\n",
    "What would this look like if the hydrogen was green and produced by solar generation.\n",
    "\n",
    "References:\n",
    "1. https://www.energy.gov.au/publications/australian-energy-statistics-table-o-electricity-generation-fuel-type-2019-20-and-2020\n",
    "1. https://www.energy.gov.au/sites/default/files/Australian%20Energy%20Statistics%2C%20Table%20O%20Electricity%20generation%20by%20fuel%20type%202019-20%20and%202020.xlsx\n",
    "1. https://en.wikipedia.org/wiki/Energy_density\n",
    "1. https://www.energy.gov.au/sites/default/files/Australian%20Energy%20Statistics%202020%20Energy%20Update%20Report_0.pdf\n",
    "1. https://www.nrel.gov/docs/fy19osti/73520.pdf"
   ]
  },
  {
   "cell_type": "code",
   "execution_count": 33,
   "id": "e710db7e-42b9-4a1e-b3a9-c235eb5b350f",
   "metadata": {},
   "outputs": [],
   "source": [
    "import pandas as pd\n",
    "import numpy as np"
   ]
  },
  {
   "cell_type": "markdown",
   "id": "d7302213-ba66-40ee-a732-cd99ebf89fa6",
   "metadata": {},
   "source": [
    "## Current Electricity Generation\n",
    "\n",
    "The current electricity generation numbers from [energy.gov.au](https://www.energy.gov.au/publications/australian-energy-statistics-table-o-electricity-generation-fuel-type-2019-20-and-2020)"
   ]
  },
  {
   "cell_type": "code",
   "execution_count": 145,
   "id": "2a306264-de16-4669-a7df-274addca250f",
   "metadata": {},
   "outputs": [
    {
     "data": {
      "text/html": [
       "<div>\n",
       "<style scoped>\n",
       "    .dataframe tbody tr th:only-of-type {\n",
       "        vertical-align: middle;\n",
       "    }\n",
       "\n",
       "    .dataframe tbody tr th {\n",
       "        vertical-align: top;\n",
       "    }\n",
       "\n",
       "    .dataframe thead tr th {\n",
       "        text-align: left;\n",
       "    }\n",
       "</style>\n",
       "<table border=\"1\" class=\"dataframe\">\n",
       "  <thead>\n",
       "    <tr>\n",
       "      <th>category</th>\n",
       "      <th colspan=\"5\" halign=\"left\">non-renewable</th>\n",
       "      <th colspan=\"7\" halign=\"left\">renewable</th>\n",
       "    </tr>\n",
       "    <tr>\n",
       "      <th>fuel</th>\n",
       "      <th>Black coal</th>\n",
       "      <th>Brown coal</th>\n",
       "      <th>Natural gas</th>\n",
       "      <th>Oil products</th>\n",
       "      <th>Other a</th>\n",
       "      <th>Bagasse, wood</th>\n",
       "      <th>Biogas</th>\n",
       "      <th>Geothermal</th>\n",
       "      <th>Hydro</th>\n",
       "      <th>Small-scale solar PV</th>\n",
       "      <th>Wind</th>\n",
       "      <th>Large-scale solar PV</th>\n",
       "    </tr>\n",
       "  </thead>\n",
       "  <tbody>\n",
       "    <tr>\n",
       "      <th>2016</th>\n",
       "      <td>114294.980000</td>\n",
       "      <td>48795.859000</td>\n",
       "      <td>50536.081000</td>\n",
       "      <td>5655.617000</td>\n",
       "      <td>NaN</td>\n",
       "      <td>2493.768000</td>\n",
       "      <td>1296.126000</td>\n",
       "      <td>0.215</td>\n",
       "      <td>15318.180000</td>\n",
       "      <td>6381.049000</td>\n",
       "      <td>12199.498000</td>\n",
       "      <td>457.212000</td>\n",
       "    </tr>\n",
       "    <tr>\n",
       "      <th>2017</th>\n",
       "      <td>118272.300000</td>\n",
       "      <td>43557.757000</td>\n",
       "      <td>50459.748000</td>\n",
       "      <td>5272.590000</td>\n",
       "      <td>NaN</td>\n",
       "      <td>2308.007000</td>\n",
       "      <td>1192.539000</td>\n",
       "      <td>0.502</td>\n",
       "      <td>16284.887000</td>\n",
       "      <td>7399.259000</td>\n",
       "      <td>12596.985000</td>\n",
       "      <td>672.397000</td>\n",
       "    </tr>\n",
       "    <tr>\n",
       "      <th>2018</th>\n",
       "      <td>121702.311000</td>\n",
       "      <td>36008.406000</td>\n",
       "      <td>53881.672000</td>\n",
       "      <td>4820.875747</td>\n",
       "      <td>NaN</td>\n",
       "      <td>2264.345000</td>\n",
       "      <td>1253.341000</td>\n",
       "      <td>0.000</td>\n",
       "      <td>16020.789000</td>\n",
       "      <td>8922.359000</td>\n",
       "      <td>15174.425000</td>\n",
       "      <td>1007.582000</td>\n",
       "    </tr>\n",
       "    <tr>\n",
       "      <th>2019</th>\n",
       "      <td>119844.767916</td>\n",
       "      <td>34459.992520</td>\n",
       "      <td>52775.403406</td>\n",
       "      <td>4922.945279</td>\n",
       "      <td>NaN</td>\n",
       "      <td>2163.634583</td>\n",
       "      <td>1332.246636</td>\n",
       "      <td>0.000</td>\n",
       "      <td>15967.281111</td>\n",
       "      <td>11116.163336</td>\n",
       "      <td>17711.950833</td>\n",
       "      <td>3732.360282</td>\n",
       "    </tr>\n",
       "    <tr>\n",
       "      <th>2020</th>\n",
       "      <td>111873.047897</td>\n",
       "      <td>33649.324322</td>\n",
       "      <td>55216.283981</td>\n",
       "      <td>4509.200664</td>\n",
       "      <td>NaN</td>\n",
       "      <td>1998.086728</td>\n",
       "      <td>1353.543192</td>\n",
       "      <td>0.000</td>\n",
       "      <td>15149.633333</td>\n",
       "      <td>13897.087569</td>\n",
       "      <td>20395.884546</td>\n",
       "      <td>7136.106674</td>\n",
       "    </tr>\n",
       "  </tbody>\n",
       "</table>\n",
       "</div>"
      ],
      "text/plain": [
       "category  non-renewable                                                       \\\n",
       "fuel         Black coal    Brown coal   Natural gas   Oil products   Other a   \n",
       "2016      114294.980000  48795.859000  50536.081000    5655.617000       NaN   \n",
       "2017      118272.300000  43557.757000  50459.748000    5272.590000       NaN   \n",
       "2018      121702.311000  36008.406000  53881.672000    4820.875747       NaN   \n",
       "2019      119844.767916  34459.992520  52775.403406    4922.945279       NaN   \n",
       "2020      111873.047897  33649.324322  55216.283981    4509.200664       NaN   \n",
       "\n",
       "category       renewable                                          \\\n",
       "fuel       Bagasse, wood       Biogas   Geothermal         Hydro   \n",
       "2016         2493.768000  1296.126000        0.215  15318.180000   \n",
       "2017         2308.007000  1192.539000        0.502  16284.887000   \n",
       "2018         2264.345000  1253.341000        0.000  16020.789000   \n",
       "2019         2163.634583  1332.246636        0.000  15967.281111   \n",
       "2020         1998.086728  1353.543192        0.000  15149.633333   \n",
       "\n",
       "category                                                            \n",
       "fuel       Small-scale solar PV          Wind Large-scale solar PV  \n",
       "2016                6381.049000  12199.498000           457.212000  \n",
       "2017                7399.259000  12596.985000           672.397000  \n",
       "2018                8922.359000  15174.425000          1007.582000  \n",
       "2019               11116.163336  17711.950833          3732.360282  \n",
       "2020               13897.087569  20395.884546          7136.106674  "
      ]
     },
     "execution_count": 145,
     "metadata": {},
     "output_type": "execute_result"
    }
   ],
   "source": [
    "df = pd.read_excel('data/Australian Energy Statistics, Table O Electricity generation by fuel type 2019-20 and 2020.xlsx', sheet_name='AUS', header=4)\n",
    "df = df.drop(index=[0, 1, 7, 8, 9, 17], columns=df.columns[0]).reset_index(drop=True)\n",
    "df = df.iloc[:12, :]\n",
    "df = df.rename(columns={'Unnamed: 1': 'fuel'})\n",
    "df = df.apply(pd.to_numeric, errors='ignore')\n",
    "df['category'] = np.nan\n",
    "df.loc[df.index[:5], 'category'] = 'non-renewable' \n",
    "df.loc[df.index[5:], 'category'] = 'renewable'\n",
    "df = pd.pivot_table(df, columns=['category', 'fuel'])\n",
    "df.index = df.index.str.replace(r'(\\d\\d).*-(\\d\\d)', r'\\1\\2', regex=True)\n",
    "df_elec_gen = df\n",
    "df_elec_gen.tail()"
   ]
  },
  {
   "cell_type": "code",
   "execution_count": 146,
   "id": "85587bce-83ce-4bee-894e-ae9ae150bbd1",
   "metadata": {},
   "outputs": [
    {
     "data": {
      "text/html": [
       "<div>\n",
       "<style scoped>\n",
       "    .dataframe tbody tr th:only-of-type {\n",
       "        vertical-align: middle;\n",
       "    }\n",
       "\n",
       "    .dataframe tbody tr th {\n",
       "        vertical-align: top;\n",
       "    }\n",
       "\n",
       "    .dataframe thead th {\n",
       "        text-align: right;\n",
       "    }\n",
       "</style>\n",
       "<table border=\"1\" class=\"dataframe\">\n",
       "  <thead>\n",
       "    <tr style=\"text-align: right;\">\n",
       "      <th>category</th>\n",
       "      <th>non-renewable</th>\n",
       "      <th>renewable</th>\n",
       "    </tr>\n",
       "  </thead>\n",
       "  <tbody>\n",
       "    <tr>\n",
       "      <th>2016</th>\n",
       "      <td>219282.537000</td>\n",
       "      <td>38146.048000</td>\n",
       "    </tr>\n",
       "    <tr>\n",
       "      <th>2017</th>\n",
       "      <td>217562.395000</td>\n",
       "      <td>40454.576000</td>\n",
       "    </tr>\n",
       "    <tr>\n",
       "      <th>2018</th>\n",
       "      <td>216413.264747</td>\n",
       "      <td>44642.841000</td>\n",
       "    </tr>\n",
       "    <tr>\n",
       "      <th>2019</th>\n",
       "      <td>212003.109122</td>\n",
       "      <td>52023.636781</td>\n",
       "    </tr>\n",
       "    <tr>\n",
       "      <th>2020</th>\n",
       "      <td>205247.856864</td>\n",
       "      <td>59930.342043</td>\n",
       "    </tr>\n",
       "  </tbody>\n",
       "</table>\n",
       "</div>"
      ],
      "text/plain": [
       "category  non-renewable     renewable\n",
       "2016      219282.537000  38146.048000\n",
       "2017      217562.395000  40454.576000\n",
       "2018      216413.264747  44642.841000\n",
       "2019      212003.109122  52023.636781\n",
       "2020      205247.856864  59930.342043"
      ]
     },
     "execution_count": 146,
     "metadata": {},
     "output_type": "execute_result"
    }
   ],
   "source": [
    "df_elec_gen.groupby(level='category', axis='columns').sum().tail()"
   ]
  },
  {
   "cell_type": "code",
   "execution_count": 168,
   "id": "e6a95e6c-d636-44db-8d22-6b0de7e109f0",
   "metadata": {},
   "outputs": [
    {
     "data": {
      "text/plain": [
       "59930.34204286933"
      ]
     },
     "execution_count": 168,
     "metadata": {},
     "output_type": "execute_result"
    }
   ],
   "source": [
    "total_renewable_supply = df_elec_gen.groupby(level='category', axis='columns').sum().loc['2020', 'renewable']\n",
    "total_renewable_supply"
   ]
  },
  {
   "cell_type": "markdown",
   "id": "c5a03b5e-540b-413d-a8ae-d70e6fb77d71",
   "metadata": {},
   "source": [
    "## Specific Energy\n",
    "A list of [specific energies for chemical reactions](https://en.wikipedia.org/wiki/Energy_density) was found on wikipedia.\n",
    "When used to produce electricity in a fuel cell or to do work, it is the Gibbs free energy of reaction (ΔG) that sets the theoretical upper limit. For hydrogen, ΔG is 113 MJ/kg if water vapor is produced, and 118 MJ/kg if liquid water is produced. It is assumed that the value of 113 MJ/kg is the relevant value here."
   ]
  },
  {
   "cell_type": "code",
   "execution_count": 155,
   "id": "ec1af67a-a663-458a-8b2c-46b393a73f19",
   "metadata": {},
   "outputs": [
    {
     "data": {
      "text/html": [
       "<div>\n",
       "<style scoped>\n",
       "    .dataframe tbody tr th:only-of-type {\n",
       "        vertical-align: middle;\n",
       "    }\n",
       "\n",
       "    .dataframe tbody tr th {\n",
       "        vertical-align: top;\n",
       "    }\n",
       "\n",
       "    .dataframe thead th {\n",
       "        text-align: right;\n",
       "    }\n",
       "</style>\n",
       "<table border=\"1\" class=\"dataframe\">\n",
       "  <thead>\n",
       "    <tr style=\"text-align: right;\">\n",
       "      <th></th>\n",
       "      <th>material</th>\n",
       "      <th>specific_energy_MJ_kg</th>\n",
       "    </tr>\n",
       "  </thead>\n",
       "  <tbody>\n",
       "    <tr>\n",
       "      <th>0</th>\n",
       "      <td>hydrogen</td>\n",
       "      <td>113.0</td>\n",
       "    </tr>\n",
       "    <tr>\n",
       "      <th>1</th>\n",
       "      <td>diesel</td>\n",
       "      <td>45.6</td>\n",
       "    </tr>\n",
       "    <tr>\n",
       "      <th>2</th>\n",
       "      <td>petrol</td>\n",
       "      <td>46.4</td>\n",
       "    </tr>\n",
       "  </tbody>\n",
       "</table>\n",
       "</div>"
      ],
      "text/plain": [
       "   material  specific_energy_MJ_kg\n",
       "0  hydrogen                  113.0\n",
       "1    diesel                   45.6\n",
       "2    petrol                   46.4"
      ]
     },
     "execution_count": 155,
     "metadata": {},
     "output_type": "execute_result"
    }
   ],
   "source": [
    "df = pd.DataFrame.from_records([\n",
    "    {'material': 'hydrogen', 'specific_energy_MJ_kg': 113},\n",
    "    {'material': 'diesel', 'specific_energy_MJ_kg': 45.6},\n",
    "    {'material': 'petrol', 'specific_energy_MJ_kg': 46.4}\n",
    "])\n",
    "df_specific_energy = df\n",
    "df_specific_energy.head()"
   ]
  },
  {
   "cell_type": "markdown",
   "id": "8597b2fb-4ae8-40b2-8a53-e43c6cf2746f",
   "metadata": {},
   "source": [
    "## Round Trip Efficiency\n",
    "There are significant losses in process of using electricity to generate hydrogen through electrolysis, compressing the hydrogen for storage, then using a fuel cell to generate electricity from the hydrogen. These losses are captured in the 'round trip efficiency'. The value for [round trip efficiency for hydrogen](https://www.nrel.gov/docs/fy19osti/73520.pdf) obtained was `35%`"
   ]
  },
  {
   "cell_type": "code",
   "execution_count": 159,
   "id": "fe7afa06-5fb8-4b5d-8517-5ce110499127",
   "metadata": {},
   "outputs": [],
   "source": [
    "h2_round_trip_effic = 0.35"
   ]
  },
  {
   "cell_type": "markdown",
   "id": "cc1409cf-b9ac-4f90-b2fa-97cf93276c79",
   "metadata": {},
   "source": [
    "## Diesel Efficiency\n",
    "To simplify the analysis we will assume that all transport is using Diesel, with an [efficiency](https://en.wikipedia.org/wiki/Diesel_engine#Efficiency) of `37%`"
   ]
  },
  {
   "cell_type": "code",
   "execution_count": 161,
   "id": "c32bea9d-fd4c-49b8-a83f-8f782a1a4649",
   "metadata": {},
   "outputs": [],
   "source": [
    "diesel_engine_efficiency = 0.37"
   ]
  },
  {
   "cell_type": "markdown",
   "id": "c10c1681-f33f-40b5-bcc8-0eb8649676ba",
   "metadata": {},
   "source": [
    "## Diesel and Petrol Consumption by Transport\n",
    "\n",
    "The energy consumption for transport in Australia was taken from [Australian Energy Update 2020](https://www.energy.gov.au/sites/default/files/Australian%20Energy%20Statistics%202020%20Energy%20Update%20Report_0.pdf)\n",
    "The value from year 2018-19 was `1,748.4 PJ`"
   ]
  },
  {
   "cell_type": "code",
   "execution_count": 158,
   "id": "8e9bab35-a780-4640-a67b-efa67819de2b",
   "metadata": {},
   "outputs": [],
   "source": [
    "transport_energy_consumption = 1748.4 * 1e9 # convert to MJ"
   ]
  },
  {
   "cell_type": "code",
   "execution_count": 163,
   "id": "133d1446-7392-476f-afc6-7d1daf431606",
   "metadata": {},
   "outputs": [],
   "source": [
    "energy_for_work = transport_energy_consumption * diesel_engine_efficiency"
   ]
  },
  {
   "cell_type": "markdown",
   "id": "89425883-e72f-4ca1-8ae9-3f60174e0fbc",
   "metadata": {},
   "source": [
    "## Hydrogen Equivalent\n",
    "The amount of energy required to deliver similar useful energy for work via a hydrogen storage / fuel cell mechanism.\n",
    "What ratio is this of current renewable generation capacity?"
   ]
  },
  {
   "cell_type": "code",
   "execution_count": 165,
   "id": "82f8bbca-589c-4207-a9ab-83f6833b6e29",
   "metadata": {},
   "outputs": [],
   "source": [
    "hydrogen_energy_demand = energy_for_work / h2_round_trip_effic"
   ]
  },
  {
   "cell_type": "code",
   "execution_count": 175,
   "id": "25d3476b-47f9-4331-8adf-5b92e8db0c8b",
   "metadata": {},
   "outputs": [
    {
     "name": "stdout",
     "output_type": "stream",
     "text": [
      "Electrical energy required for hydrogen: 513419.05 GWh\n"
     ]
    }
   ],
   "source": [
    "hydrogen_energy_demand_GWh =  hydrogen_energy_demand / 3.6e6\n",
    "print(f'Electrical energy required for hydrogen: {hydrogen_energy_demand_GWh:0.2f} GWh')"
   ]
  },
  {
   "cell_type": "code",
   "execution_count": 172,
   "id": "18ba5a5f-513d-4a4e-b230-31424b154960",
   "metadata": {},
   "outputs": [
    {
     "name": "stdout",
     "output_type": "stream",
     "text": [
      "Hydrogen required 8.57 times the current renewable supply\n"
     ]
    }
   ],
   "source": [
    "hydrogen_energy_demand_renewables_ratio = hydrogen_energy_demand_GWh / total_renewable_supply\n",
    "print(f'Hydrogen required {hydrogen_energy_demand_renewables_ratio:0.2f} times the current renewable supply')"
   ]
  },
  {
   "cell_type": "markdown",
   "id": "dc5a513a-4695-4f7b-b343-2637b4c5727d",
   "metadata": {},
   "source": [
    "## Area Required for Solar Farms to Meet Demand\n",
    "Bhadla Solar Park became the largest solar park in 2020 with a capacity of 2,245 MW. Spread across more than 5,700 hectares (14,000 acres), the park is located at Bhadla village in Jodhpur district in the Indian desert state of Rajasthan. (https://en.wikipedia.org/wiki/List_of_photovoltaic_power_stations)"
   ]
  },
  {
   "cell_type": "code",
   "execution_count": 185,
   "id": "867b747b-0810-4732-84a2-a817dbd2610f",
   "metadata": {},
   "outputs": [
    {
     "name": "stdout",
     "output_type": "stream",
     "text": [
      "large scale solar generates 0.39 MW per hectare\n"
     ]
    }
   ],
   "source": [
    "bhadla_capacity = 2245\n",
    "bhadla_area = 5700\n",
    "MW_per_hectare = bhadla_capacity / bhadla_area\n",
    "print(f'large scale solar generates {MW_per_hectare:0.2f} MW per hectare')"
   ]
  },
  {
   "cell_type": "code",
   "execution_count": 188,
   "id": "08627b61-982e-4726-a919-0b6ed06778d7",
   "metadata": {},
   "outputs": [
    {
     "name": "stdout",
     "output_type": "stream",
     "text": [
      "297616.07 hectares are required (52.21 Bhadlas) assuming 12 hours/day operation\n"
     ]
    }
   ],
   "source": [
    "hours_day = 12\n",
    "MW_required = hydrogen_energy_demand_GWh / 365 / hours_day * 1e3\n",
    "hectares_required = MW_required / MW_per_hectare\n",
    "print(f'{hectares_required:0.2f} hectares are required ({hectares_required/bhadla_area:0.2f} Bhadlas) assuming {hours_day} hours/day operation')"
   ]
  },
  {
   "cell_type": "code",
   "execution_count": 183,
   "id": "b72b25c2-2c29-4941-9fb5-5fcc1ccb1cfa",
   "metadata": {},
   "outputs": [
    {
     "name": "stdout",
     "output_type": "stream",
     "text": [
      "Solar required is 0.04% of Australia mainland\n"
     ]
    }
   ],
   "source": [
    "area_of_australia_hectares = 7656127 * 100\n",
    "ratio_solar_australia = hectares_required / area_of_australia_hectares\n",
    "print(f'Solar required is {ratio_solar_australia*100:0.2f}% of Australia mainland')"
   ]
  }
 ],
 "metadata": {
  "kernelspec": {
   "display_name": "Python 3 (ipykernel)",
   "language": "python",
   "name": "python3"
  },
  "language_info": {
   "codemirror_mode": {
    "name": "ipython",
    "version": 3
   },
   "file_extension": ".py",
   "mimetype": "text/x-python",
   "name": "python",
   "nbconvert_exporter": "python",
   "pygments_lexer": "ipython3",
   "version": "3.9.7"
  }
 },
 "nbformat": 4,
 "nbformat_minor": 5
}
