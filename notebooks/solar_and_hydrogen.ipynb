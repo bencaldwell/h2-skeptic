{
 "cells": [
  {
   "cell_type": "markdown",
   "id": "35000a22-47d3-493f-a2bc-109116f92b1a",
   "metadata": {},
   "source": [
    "# Is Solar the Answer?\n",
    "\n",
    "This analysis investigates replacement of diesel and petrol with hydrogen for all transport in Australia.\n",
    "What would this look like if the hydrogen was green and produced by solar generation."
   ]
  },
  {
   "cell_type": "markdown",
   "id": "d7302213-ba66-40ee-a732-cd99ebf89fa6",
   "metadata": {},
   "source": [
    "## Current Electricity Generation\n"
   ]
  },
  {
   "cell_type": "code",
   "execution_count": null,
   "id": "fcb65120-1ea9-4b05-bcb1-59ee46a39150",
   "metadata": {},
   "outputs": [],
   "source": []
  }
 ],
 "metadata": {
  "kernelspec": {
   "display_name": "Python 3 (ipykernel)",
   "language": "python",
   "name": "python3"
  },
  "language_info": {
   "codemirror_mode": {
    "name": "ipython",
    "version": 3
   },
   "file_extension": ".py",
   "mimetype": "text/x-python",
   "name": "python",
   "nbconvert_exporter": "python",
   "pygments_lexer": "ipython3",
   "version": "3.9.7"
  }
 },
 "nbformat": 4,
 "nbformat_minor": 5
}
